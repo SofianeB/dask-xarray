{
 "cells": [
  {
   "cell_type": "markdown",
   "metadata": {},
   "source": [
    "### Climate change 1 use case with xarray\n",
    "\n",
    "Author: Sofiane Bendoukha"
   ]
  },
  {
   "cell_type": "markdown",
   "metadata": {},
   "source": [
    "Data need to be downloaded from this link \n",
    "https://nextcloud.dkrz.de/s/fMRFxoqdGs2S9W3"
   ]
  },
  {
   "cell_type": "code",
   "execution_count": null,
   "metadata": {},
   "outputs": [],
   "source": [
    "import wget\n",
    "historical_url = 'https://nextcloud.dkrz.de/s/fMRFxoqdGs2S9W3/download?path=%2F&files=tas_Amon_HadGEM2-ES_historical_r1i1p1_198412-200511.nc'\n",
    "rcp26_url = 'https://nextcloud.dkrz.de/s/fMRFxoqdGs2S9W3/download?path=%2F&files=tas_Amon_HadGEM2-ES_rcp26_r1i1p1_209912-212411.nc'\n",
    "rcp85_url = 'https://nextcloud.dkrz.de/s/fMRFxoqdGs2S9W3/download?path=%2F&files=tas_Amon_HadGEM2-ES_rcp85_r1i1p1_209912-212411.nc'\n",
    "wget.download(historical_url)\n",
    "wget.download(rcp26_url)\n",
    "wget.download(rcp85_url)"
   ]
  },
  {
   "cell_type": "code",
   "execution_count": null,
   "metadata": {},
   "outputs": [],
   "source": [
    "import xarray as xr"
   ]
  },
  {
   "cell_type": "markdown",
   "metadata": {},
   "source": [
    "Load historical"
   ]
  },
  {
   "cell_type": "code",
   "execution_count": null,
   "metadata": {},
   "outputs": [],
   "source": [
    "ds_historical = xr.open_dataset('tas_Amon_HadGEM2-ES_historical_r1i1p1_198412-200511.nc')\n",
    "ds_historical"
   ]
  },
  {
   "cell_type": "markdown",
   "metadata": {},
   "source": [
    "Calculate the mean"
   ]
  },
  {
   "cell_type": "code",
   "execution_count": null,
   "metadata": {},
   "outputs": [],
   "source": [
    "mean_hist = ds_historical.mean('time')\n",
    "mean_hist"
   ]
  },
  {
   "cell_type": "code",
   "execution_count": null,
   "metadata": {},
   "outputs": [],
   "source": [
    "#tas_hist = xr.open_dataset('tas_hist.nc')\n",
    "#tas_hist.tas"
   ]
  },
  {
   "cell_type": "code",
   "execution_count": null,
   "metadata": {},
   "outputs": [],
   "source": [
    "ds_rcp26 = xr.open_dataset('tas_Amon_HadGEM2-ES_rcp26_r1i1p1_209912-212411.nc')\n",
    "ds_rcp26"
   ]
  },
  {
   "cell_type": "code",
   "execution_count": null,
   "metadata": {},
   "outputs": [],
   "source": [
    "mean_rcp26 = ds_rcp26.mean('time')\n",
    "mean_rcp26"
   ]
  },
  {
   "cell_type": "code",
   "execution_count": null,
   "metadata": {},
   "outputs": [],
   "source": [
    "#tas_rcp26 = xr.open_dataset('tas_rcp26.nc')\n",
    "#tas_rcp26.tas"
   ]
  },
  {
   "cell_type": "code",
   "execution_count": null,
   "metadata": {},
   "outputs": [],
   "source": [
    "ds_rcp85 = xr.open_dataset('tas_Amon_HadGEM2-ES_rcp85_r1i1p1_209912-212411.nc')\n",
    "ds_rcp85"
   ]
  },
  {
   "cell_type": "code",
   "execution_count": null,
   "metadata": {},
   "outputs": [],
   "source": [
    "mean_rcp85 = ds_rcp85.mean('time')\n",
    "mean_rcp85"
   ]
  },
  {
   "cell_type": "code",
   "execution_count": null,
   "metadata": {},
   "outputs": [],
   "source": [
    "#tas_rcp85 = xr.open_dataset('tas_rcp85.nc')\n",
    "#tas_rcp85"
   ]
  },
  {
   "cell_type": "code",
   "execution_count": null,
   "metadata": {},
   "outputs": [],
   "source": [
    "my_dtas_rcp26 = mean_rcp26 - mean_hist\n",
    "my_dtas_rcp26"
   ]
  },
  {
   "cell_type": "code",
   "execution_count": null,
   "metadata": {
    "scrolled": true
   },
   "outputs": [],
   "source": [
    "#dtas_rcp26 = xr.open_dataset('dtas_rcp26.nc')\n",
    "#dtas_rcp26"
   ]
  },
  {
   "cell_type": "code",
   "execution_count": null,
   "metadata": {},
   "outputs": [],
   "source": [
    "my_dtas_rcp85 = mean_rcp85 - mean_hist\n",
    "my_dtas_rcp85"
   ]
  },
  {
   "cell_type": "code",
   "execution_count": null,
   "metadata": {},
   "outputs": [],
   "source": [
    "#dtas_rcp85 = xr.open_dataset('dtas_rcp85.nc')\n",
    "#dtas_rcp85.tas"
   ]
  },
  {
   "cell_type": "markdown",
   "metadata": {},
   "source": [
    "### Plot"
   ]
  },
  {
   "cell_type": "code",
   "execution_count": null,
   "metadata": {},
   "outputs": [],
   "source": [
    "import geoviews as gv\n",
    "import geoviews.feature as gf\n",
    "\n",
    "from cartopy import crs\n",
    "from geoviews import opts\n",
    "\n",
    "gv.extension('matplotlib')\n",
    "\n",
    "gv.output(size=150)"
   ]
  },
  {
   "cell_type": "code",
   "execution_count": null,
   "metadata": {},
   "outputs": [],
   "source": [
    "kdims = ['lon', 'lat']\n",
    "vdims = ['tas']\n",
    "\n",
    "#xr_dataset = gv.Dataset(xr.open_dataset('tas_day_HadGEM2-ES_rcp26_r1i1p1_20951201-20991130.nc'))\n",
    "#ensemble = xr_dataset.to(gv.Image, ['lon', 'lat'], 'tas', dynamic=True)\n",
    "\n",
    "#gv.output(ensemble.opts(cmap='viridis', colorbar=True, fig_size=200, backend='matplotlib') * gf.coastline(),\n",
    "#          backend='matplotlib')"
   ]
  },
  {
   "cell_type": "code",
   "execution_count": null,
   "metadata": {},
   "outputs": [],
   "source": [
    "xr_dataset = gv.Dataset(my_dtas_rcp26, kdims=kdims, vdims=vdims)\n",
    "ensemble = xr_dataset.to(gv.QuadMesh, ['lon', 'lat'], dynamic=True)\n",
    "gv.output(ensemble.opts(cmap='inferno', colorbar=True, backend='matplotlib') * gf.coastline(),\n",
    "         backend='matplotlib')"
   ]
  },
  {
   "cell_type": "code",
   "execution_count": null,
   "metadata": {},
   "outputs": [],
   "source": [
    "xr_dataset = gv.Dataset(my_dtas_rcp85, kdims=kdims, vdims=vdims)\n",
    "ensemble = xr_dataset.to(gv.Image, ['lon', 'lat'], dynamic=True)\n",
    "gv.output(ensemble.opts(cmap='inferno', colorbar=True, backend='matplotlib') * gf.coastline(),\n",
    "         backend='matplotlib')"
   ]
  },
  {
   "cell_type": "code",
   "execution_count": null,
   "metadata": {},
   "outputs": [],
   "source": []
  }
 ],
 "metadata": {
  "kernelspec": {
   "display_name": "Python 3",
   "language": "python",
   "name": "python3"
  },
  "language_info": {
   "codemirror_mode": {
    "name": "ipython",
    "version": 3
   },
   "file_extension": ".py",
   "mimetype": "text/x-python",
   "name": "python",
   "nbconvert_exporter": "python",
   "pygments_lexer": "ipython3",
   "version": "3.6.7"
  }
 },
 "nbformat": 4,
 "nbformat_minor": 2
}
