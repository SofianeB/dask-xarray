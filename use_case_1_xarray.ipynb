{
 "cells": [
  {
   "cell_type": "code",
   "execution_count": null,
   "metadata": {},
   "outputs": [],
   "source": [
    "import xarray as xr\n",
    "import numpy as np\n",
    "import pandas as pd\n",
    "import seaborn as sns  # pandas aware plotting library"
   ]
  },
  {
   "cell_type": "code",
   "execution_count": null,
   "metadata": {},
   "outputs": [],
   "source": [
    "ds_rcp26 = xr.open_dataset('tas_day_HadGEM2-ES_rcp26_r1i1p1_20951201-20991130.nc')\n",
    "ds_rcp26.tas"
   ]
  },
  {
   "cell_type": "code",
   "execution_count": null,
   "metadata": {},
   "outputs": [],
   "source": [
    "#ds_rcp26"
   ]
  },
  {
   "cell_type": "code",
   "execution_count": null,
   "metadata": {},
   "outputs": [],
   "source": [
    "mean_rcp26 = ds_rcp26.groupby('time.year').mean('time', keep_attrs=True)"
   ]
  },
  {
   "cell_type": "code",
   "execution_count": null,
   "metadata": {},
   "outputs": [],
   "source": [
    "mean_rcp26\n",
    "#air_rcp26"
   ]
  },
  {
   "cell_type": "code",
   "execution_count": null,
   "metadata": {},
   "outputs": [],
   "source": [
    "ds_rcp85 = xr.open_dataset('tas_day_HadGEM2-ES_rcp85_r1i1p1_20951201-20991130.nc')"
   ]
  },
  {
   "cell_type": "code",
   "execution_count": null,
   "metadata": {},
   "outputs": [],
   "source": [
    "mean_rcp85 = ds_rcp85.groupby('time.year').mean('time', keep_attrs=True)"
   ]
  },
  {
   "cell_type": "code",
   "execution_count": null,
   "metadata": {},
   "outputs": [],
   "source": [
    "mean_rcp85"
   ]
  },
  {
   "cell_type": "code",
   "execution_count": null,
   "metadata": {},
   "outputs": [],
   "source": [
    "# convert to celsius \n",
    "#air_rcp85 = mean_rcp85.tas - 273.15\n",
    "# copy attributes to get nice figure labels and change Kelvin to Celsius\n",
    "#air_rcp85.attrs = mean_rcp85.tas.attrs"
   ]
  },
  {
   "cell_type": "markdown",
   "metadata": {},
   "source": [
    "### Plot"
   ]
  },
  {
   "cell_type": "code",
   "execution_count": null,
   "metadata": {},
   "outputs": [],
   "source": [
    "import geoviews as gv\n",
    "import geoviews.feature as gf\n",
    "\n",
    "from cartopy import crs\n",
    "from geoviews import opts\n",
    "\n",
    "gv.extension('matplotlib')\n",
    "\n",
    "gv.output(size=150)"
   ]
  },
  {
   "cell_type": "code",
   "execution_count": null,
   "metadata": {},
   "outputs": [],
   "source": [
    "kdims = ['year', 'lon', 'lat']\n",
    "vdims = ['tas']\n",
    "\n",
    "#xr_dataset = gv.Dataset(xr.open_dataset('tas_day_HadGEM2-ES_rcp26_r1i1p1_20951201-20991130.nc'))\n",
    "#ensemble = xr_dataset.to(gv.Image, ['lon', 'lat'], 'tas', dynamic=True)\n",
    "\n",
    "#gv.output(ensemble.opts(cmap='viridis', colorbar=True, fig_size=200, backend='matplotlib') * gf.coastline(),\n",
    "#          backend='matplotlib')"
   ]
  },
  {
   "cell_type": "code",
   "execution_count": null,
   "metadata": {},
   "outputs": [],
   "source": [
    "xr_dataset = gv.Dataset(mean_rcp85, kdims=kdims, vdims=vdims)\n",
    "ensemble = xr_dataset.to(gv.QuadMesh, ['lon', 'lat'], dynamic=True)\n",
    "gv.output(ensemble.opts(cmap='inferno', colorbar=True, backend='matplotlib') * gf.coastline(),\n",
    "         backend='matplotlib')"
   ]
  },
  {
   "cell_type": "code",
   "execution_count": null,
   "metadata": {},
   "outputs": [],
   "source": [
    "xr_dataset = gv.Dataset(mean_rcp26, kdims=kdims, vdims=vdims)\n",
    "ensemble = xr_dataset.to(gv.Image, ['lon', 'lat'], dynamic=True)\n",
    "gv.output(ensemble.opts(cmap='inferno', colorbar=True, backend='matplotlib') * gf.coastline(),\n",
    "         backend='matplotlib')"
   ]
  },
  {
   "cell_type": "code",
   "execution_count": null,
   "metadata": {},
   "outputs": [],
   "source": []
  }
 ],
 "metadata": {
  "kernelspec": {
   "display_name": "Python 3",
   "language": "python",
   "name": "python3"
  },
  "language_info": {
   "codemirror_mode": {
    "name": "ipython",
    "version": 3
   },
   "file_extension": ".py",
   "mimetype": "text/x-python",
   "name": "python",
   "nbconvert_exporter": "python",
   "pygments_lexer": "ipython3",
   "version": "3.6.7"
  }
 },
 "nbformat": 4,
 "nbformat_minor": 2
}
