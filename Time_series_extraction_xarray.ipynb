{
 "cells": [
  {
   "cell_type": "code",
   "execution_count": 1,
   "metadata": {},
   "outputs": [],
   "source": [
    "import xarray as xr"
   ]
  },
  {
   "cell_type": "code",
   "execution_count": 2,
   "metadata": {
    "scrolled": true
   },
   "outputs": [
    {
     "data": {
      "text/plain": [
       "<xarray.Dataset>\n",
       "Dimensions:    (bnds: 2, lat: 170, lon: 180, time: 24)\n",
       "Coordinates:\n",
       "  * lon        (lon) float64 1.0 3.0 5.0 7.0 9.0 ... 353.0 355.0 357.0 359.0\n",
       "  * lat        (lat) float64 -79.5 -78.5 -77.5 -76.5 ... 86.5 87.5 88.5 89.5\n",
       "  * time       (time) object 2001-01-16 00:00:00 ... 2002-12-16 00:00:00\n",
       "Dimensions without coordinates: bnds\n",
       "Data variables:\n",
       "    lon_bnds   (lon, bnds) float64 ...\n",
       "    lat_bnds   (lat, bnds) float64 ...\n",
       "    time_bnds  (time, bnds) object ...\n",
       "    tos        (time, lat, lon) float32 ...\n",
       "Attributes:\n",
       "    title:          IPSL  model output prepared for IPCC Fourth Assessment SR...\n",
       "    institution:    IPSL (Institut Pierre Simon Laplace, Paris, France)\n",
       "    source:         IPSL-CM4_v1 (2003) : atmosphere : LMDZ (IPSL-CM4_IPCC, 96...\n",
       "    contact:        Sebastien Denvil, sebastien.denvil@ipsl.jussieu.fr\n",
       "    project_id:     IPCC Fourth Assessment\n",
       "    table_id:       Table O1 (13 November 2004)\n",
       "    experiment_id:  SRES A2 experiment\n",
       "    realization:    1\n",
       "    cmor_version:   0.96\n",
       "    Conventions:    CF-1.0\n",
       "    history:        YYYY/MM/JJ: data generated; YYYY/MM/JJ+1 data transformed...\n",
       "    references:     Dufresne et al, Journal of Climate, 2015, vol XX, p 136\n",
       "    comment:        Test drive"
      ]
     },
     "execution_count": 2,
     "metadata": {},
     "output_type": "execute_result"
    }
   ],
   "source": [
    "ds = xr.open_dataset('data/tos_O1_2001-2002.nc')\n",
    "ds"
   ]
  },
  {
   "cell_type": "markdown",
   "metadata": {},
   "source": [
    "Extract and plot single time series "
   ]
  },
  {
   "cell_type": "code",
   "execution_count": 28,
   "metadata": {},
   "outputs": [
    {
     "data": {
      "text/plain": [
       "[<matplotlib.lines.Line2D at 0x7f2243ed0748>]"
      ]
     },
     "execution_count": 28,
     "metadata": {},
     "output_type": "execute_result"
    },
    {
     "data": {
      "image/png": "[encoded data removed]",
      "text/plain": [
       "<Figure size 432x288 with 1 Axes>"
      ]
     },
     "metadata": {
      "needs_background": "light"
     },
     "output_type": "display_data"
    }
   ],
   "source": [
    "%matplotlib inline\n",
    "ds['tos'].sel(lat=0.5, lon=1.0).plot()"
   ]
  },
  {
   "cell_type": "markdown",
   "metadata": {},
   "source": [
    "Convert fro Kelvin to Celsius degrees"
   ]
  },
  {
   "cell_type": "code",
   "execution_count": 26,
   "metadata": {},
   "outputs": [
    {
     "data": {
      "text/plain": [
       "<xarray.DataArray 'tos' (time: 24, lat: 170, lon: 180)>\n",
       "array([[[      nan,       nan, ...,       nan,       nan],\n",
       "        [      nan,       nan, ...,       nan,       nan],\n",
       "        ...,\n",
       "        [-1.704803, -1.704742, ..., -1.704895, -1.704865],\n",
       "        [-1.690796, -1.690826, ..., -1.690765, -1.690796]],\n",
       "\n",
       "       [[      nan,       nan, ...,       nan,       nan],\n",
       "        [      nan,       nan, ...,       nan,       nan],\n",
       "        ...,\n",
       "        [-1.704254, -1.704285, ..., -1.704193, -1.704254],\n",
       "        [-1.691986, -1.691986, ..., -1.691956, -1.691956]],\n",
       "\n",
       "       ...,\n",
       "\n",
       "       [[      nan,       nan, ...,       nan,       nan],\n",
       "        [      nan,       nan, ...,       nan,       nan],\n",
       "        ...,\n",
       "        [-1.682739, -1.682587, ..., -1.683044, -1.682892],\n",
       "        [-1.674896, -1.674866, ..., -1.674988, -1.674957]],\n",
       "\n",
       "       [[      nan,       nan, ...,       nan,       nan],\n",
       "        [      nan,       nan, ...,       nan,       nan],\n",
       "        ...,\n",
       "        [-1.688263, -1.688141, ..., -1.688446, -1.688354],\n",
       "        [-1.684387, -1.684357, ..., -1.684448, -1.684418]]], dtype=float32)\n",
       "Coordinates:\n",
       "  * lon      (lon) float64 1.0 3.0 5.0 7.0 9.0 ... 351.0 353.0 355.0 357.0 359.0\n",
       "  * lat      (lat) float64 -79.5 -78.5 -77.5 -76.5 -75.5 ... 86.5 87.5 88.5 89.5\n",
       "  * time     (time) object 2001-01-16 00:00:00 ... 2002-12-16 00:00:00"
      ]
     },
     "execution_count": 26,
     "metadata": {},
     "output_type": "execute_result"
    }
   ],
   "source": [
    "celsius_ds = ds.tos - 273.15 \n",
    "celsius_ds"
   ]
  },
  {
   "cell_type": "markdown",
   "metadata": {},
   "source": [
    "Update attributes for the new dataset "
   ]
  },
  {
   "cell_type": "code",
   "execution_count": 20,
   "metadata": {},
   "outputs": [],
   "source": [
    "celsius_ds.attrs = ds.tos.attrs"
   ]
  },
  {
   "cell_type": "code",
   "execution_count": 23,
   "metadata": {},
   "outputs": [],
   "source": [
    "celsius_ds.attrs['units'] = 'deg C'"
   ]
  },
  {
   "cell_type": "markdown",
   "metadata": {},
   "source": [
    "Plot"
   ]
  },
  {
   "cell_type": "code",
   "execution_count": 29,
   "metadata": {},
   "outputs": [
    {
     "data": {
      "text/plain": [
       "[<matplotlib.lines.Line2D at 0x7f2243cb25f8>]"
      ]
     },
     "execution_count": 29,
     "metadata": {},
     "output_type": "execute_result"
    },
    {
     "data": {
      "image/png": "[encoded data removed]",
      "text/plain": [
       "<Figure size 432x288 with 1 Axes>"
      ]
     },
     "metadata": {
      "needs_background": "light"
     },
     "output_type": "display_data"
    }
   ],
   "source": [
    "%matplotlib inline\n",
    "celsius_ds.sel(lat=0.5, lon=1.0).plot()"
   ]
  },
  {
   "cell_type": "code",
   "execution_count": null,
   "metadata": {},
   "outputs": [],
   "source": []
  }
 ],
 "metadata": {
  "kernelspec": {
   "display_name": "Python 3",
   "language": "python",
   "name": "python3"
  },
  "language_info": {
   "codemirror_mode": {
    "name": "ipython",
    "version": 3
   },
   "file_extension": ".py",
   "mimetype": "text/x-python",
   "name": "python",
   "nbconvert_exporter": "python",
   "pygments_lexer": "ipython3",
   "version": "3.6.7"
  }
 },
 "nbformat": 4,
 "nbformat_minor": 2
}
